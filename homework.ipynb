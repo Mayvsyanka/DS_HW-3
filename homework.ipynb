{
 "cells": [
  {
   "cell_type": "code",
   "execution_count": 45,
   "metadata": {},
   "outputs": [],
   "source": [
    "import numpy as np\n",
    "import pandas as pd"
   ]
  },
  {
   "cell_type": "code",
   "execution_count": 46,
   "metadata": {},
   "outputs": [],
   "source": [
    "# функція гіпотези лінійної регресії у векторному вигляді\n",
    "\n",
    "def hypothesis(w, X):\n",
    "  return X@w\n"
   ]
  },
  {
   "cell_type": "code",
   "execution_count": 47,
   "metadata": {},
   "outputs": [],
   "source": [
    "# функція для обчислення функції втрат у векторному вигляді\n",
    "\n",
    "def mean_square_error(y_true, y_predicted):\n",
    "\n",
    "    return np.sum((y_true-y_predicted)**2/(len(y_true)))"
   ]
  },
  {
   "cell_type": "code",
   "execution_count": 48,
   "metadata": {},
   "outputs": [],
   "source": [
    "# реалізація кроку градієнтного спуску\n",
    "\n",
    "def gradient_descent(X, y, w, iterations=1000, learning_rate=0.001, stopping_threshold=0.0000001):\n",
    "    n = float(len(X))\n",
    "    previous_cost = None\n",
    "\n",
    "    for i in range(iterations):\n",
    "        y_pred = X @ w\n",
    "        cost = mean_square_error(y, y_pred)\n",
    "\n",
    "        if previous_cost is not None and abs(previous_cost - cost) <= stopping_threshold:\n",
    "            break\n",
    "        previous_cost = cost\n",
    "\n",
    "        gradient = -2 * X.T @ (y - y_pred) / n\n",
    "        w -= learning_rate * gradient\n",
    "\n",
    "    return w\n"
   ]
  },
  {
   "cell_type": "code",
   "execution_count": 49,
   "metadata": {},
   "outputs": [
    {
     "name": "stdout",
     "output_type": "stream",
     "text": [
      "Best parameters w: [821214.21404292 299984.10905677 695807.95407458]\n"
     ]
    }
   ],
   "source": [
    "# найкращі параметри w для датасету прогнозуючу ціну на будинок залежно від площі, кількості ванних кімнат та кількості спалень\n",
    "\n",
    "df = pd.read_csv(\"Housing.csv\")\n",
    "X = df[['area', 'bedrooms', 'bathrooms']].values\n",
    "y = df[\"price\"].values\n",
    "\n",
    "mean = np.mean(X, axis=0)\n",
    "std = np.std(X, axis=0)\n",
    "X_normalized = (X - mean) / std\n",
    "\n",
    "w = np.zeros(X_normalized.shape[1])\n",
    "\n",
    "gradient_w = gradient_descent(X_normalized, y, w, iterations=1000, learning_rate=0.01)\n",
    "print(\"Best parameters w:\", gradient_w)\n"
   ]
  },
  {
   "cell_type": "code",
   "execution_count": 50,
   "metadata": {},
   "outputs": [
    {
     "data": {
      "text/plain": [
       "array([821214.14349519, 299983.57107963, 695808.52272537])"
      ]
     },
     "execution_count": 50,
     "metadata": {},
     "output_type": "execute_result"
    }
   ],
   "source": [
    "# найкращі параметри w для датасету прогнозуючу ціну на будинок залежно від площі, кількості ванних кімнат та кількості спалень (аналітичне рішення)\n",
    "\n",
    "analytical_w = np.linalg.inv(\n",
    "    X_normalized.T @ X_normalized) @ (X_normalized.T @ y)\n",
    "\n",
    "analytical_w\n"
   ]
  },
  {
   "cell_type": "code",
   "execution_count": 52,
   "metadata": {},
   "outputs": [
    {
     "data": {
      "text/plain": [
       "array([ 0.07054774,  0.53797714, -0.56865078])"
      ]
     },
     "execution_count": 52,
     "metadata": {},
     "output_type": "execute_result"
    }
   ],
   "source": [
    "# порівняйте отримані результати\n",
    "\n",
    "difference = gradient_w - analytical_w\n",
    "difference"
   ]
  }
 ],
 "metadata": {
  "kernelspec": {
   "display_name": "Python 3.11.0 64-bit",
   "language": "python",
   "name": "python3"
  },
  "language_info": {
   "codemirror_mode": {
    "name": "ipython",
    "version": 3
   },
   "file_extension": ".py",
   "mimetype": "text/x-python",
   "name": "python",
   "nbconvert_exporter": "python",
   "pygments_lexer": "ipython3",
   "version": "3.11.0"
  },
  "orig_nbformat": 4,
  "vscode": {
   "interpreter": {
    "hash": "de47f5c92c0ee6f12a59a5613ac5feff6aab19ddff207ba0b3964cced08c4ccc"
   }
  }
 },
 "nbformat": 4,
 "nbformat_minor": 2
}
